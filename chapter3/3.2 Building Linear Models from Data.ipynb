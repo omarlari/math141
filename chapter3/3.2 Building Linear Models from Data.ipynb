{
 "cells": [
  {
   "cell_type": "markdown",
   "metadata": {},
   "source": [
    "#### Problems 5, 9, 15, 17, 21"
   ]
  },
  {
   "cell_type": "markdown",
   "metadata": {},
   "source": [
    "#### 5.) Linear"
   ]
  },
  {
   "cell_type": "markdown",
   "metadata": {},
   "source": [
    "#### 9.) Non-linear"
   ]
  },
  {
   "cell_type": "markdown",
   "metadata": {},
   "source": [
    "#### 15.)\n",
    "\n",
    "(a) see graph below\n",
    "\n",
    "(b) selected two points (-20, 100) and (-17,120)\n",
    "\n",
    "slope:\n",
    "\n",
    "120-100/(-17)-(-20)\n",
    "\n",
    "20/3 \n",
    "\n",
    "$y - y_{1} = m(x - x_{1})$\n",
    "\n",
    "$y - 100 = 20/3(x-(-20))$ \n",
    "\n",
    "$y - 100 = 20/3(x+20)$\n",
    "\n",
    "$y - 100 = 20/3x + 20/3(20)$\n",
    "\n",
    "$y = 20/3x + 700/3$\n",
    "\n",
    "\n",
    "(c) See graph below\n",
    "\n",
    "(d) line of best fit\n",
    "\n",
    "$y = 3.8613x + 180.2920$\n",
    "\n",
    "(e) see graph below\n",
    "\n"
   ]
  },
  {
   "cell_type": "code",
   "execution_count": 19,
   "metadata": {},
   "outputs": [
    {
     "name": "stdout",
     "output_type": "stream",
     "text": [
      "6.66666666667\n"
     ]
    }
   ],
   "source": [
    "def slope(x1,x2,y1,y2):\n",
    "    answer = (y2-y1)/(x2-x1)\n",
    "    return answer\n",
    "\n",
    "x = np.array([-20,-17,-15,-14,-10])\n",
    "y = np.array([100,120,118,130,140])\n",
    "\n",
    "slope = slope(x[0],x[1],y[0],y[1])\n",
    "print(slope)"
   ]
  },
  {
   "cell_type": "code",
   "execution_count": 25,
   "metadata": {},
   "outputs": [
    {
     "name": "stdout",
     "output_type": "stream",
     "text": [
      "Raw fit results:\n",
      "poly([ 180.2919708     3.86131387])\n",
      "[array([ 74.1459854]), 2, array([ 1.40609139,  0.15135056]), 1.1102230246251565e-15]\n"
     ]
    }
   ],
   "source": [
    "import numpy as np\n",
    "import pylab\n",
    "Polynomial = np.polynomial.Polynomial\n",
    "\n",
    "def lineOfBestFit(x,y):\n",
    "    \n",
    "    cmin, cmax = min(x), max(x)\n",
    "    pfit, stats = Polynomial.fit(x, y, 1, full=True, window=(cmin, cmax),\n",
    "                                                    domain=(cmin, cmax))\n",
    "\n",
    "    print('Raw fit results:', pfit, stats, sep='\\n')\n",
    "\n",
    "    #A0, m = pfit\n",
    "    #resid, rank, sing_val, rcond = stats\n",
    "    #rms = np.sqrt(resid[0]/len(y))\n",
    "\n",
    "    #print('Fit: y = {:.3f}[P] + {:.3f}'.format(m, A0),\n",
    "          #'(rms residual = {:.4f})'.format(rms))\n",
    "    \n",
    "x = np.array([-20,-17,-15,-14,-10])\n",
    "y = np.array([100,120,118,130,140])\n",
    "\n",
    "lineOfBestFit(x,y)"
   ]
  },
  {
   "cell_type": "code",
   "execution_count": 26,
   "metadata": {},
   "outputs": [
    {
     "ename": "TypeError",
     "evalue": "drawGraph() missing 2 required positional arguments: 'x2' and 'y2'",
     "output_type": "error",
     "traceback": [
      "\u001b[0;31m---------------------------------------------------------------------------\u001b[0m",
      "\u001b[0;31mTypeError\u001b[0m                                 Traceback (most recent call last)",
      "\u001b[0;32m<ipython-input-26-df106174424e>\u001b[0m in \u001b[0;36m<module>\u001b[0;34m\u001b[0m\n\u001b[1;32m     39\u001b[0m \u001b[0my\u001b[0m \u001b[0;34m=\u001b[0m \u001b[0mnp\u001b[0m\u001b[0;34m.\u001b[0m\u001b[0marray\u001b[0m\u001b[0;34m(\u001b[0m\u001b[0;34m[\u001b[0m\u001b[0;36m100\u001b[0m\u001b[0;34m,\u001b[0m\u001b[0;36m120\u001b[0m\u001b[0;34m,\u001b[0m\u001b[0;36m118\u001b[0m\u001b[0;34m,\u001b[0m\u001b[0;36m130\u001b[0m\u001b[0;34m,\u001b[0m\u001b[0;36m140\u001b[0m\u001b[0;34m]\u001b[0m\u001b[0;34m)\u001b[0m\u001b[0;34m\u001b[0m\u001b[0;34m\u001b[0m\u001b[0m\n\u001b[1;32m     40\u001b[0m \u001b[0;34m\u001b[0m\u001b[0m\n\u001b[0;32m---> 41\u001b[0;31m \u001b[0mdrawGraph\u001b[0m\u001b[0;34m(\u001b[0m\u001b[0mx\u001b[0m\u001b[0;34m,\u001b[0m \u001b[0my\u001b[0m\u001b[0;34m,\u001b[0m \u001b[0mcreateArrays\u001b[0m\u001b[0;34m(\u001b[0m\u001b[0;34m)\u001b[0m\u001b[0;34m[\u001b[0m\u001b[0;36m0\u001b[0m\u001b[0;34m]\u001b[0m\u001b[0;34m,\u001b[0m \u001b[0mcreateArrays\u001b[0m\u001b[0;34m(\u001b[0m\u001b[0;34m)\u001b[0m\u001b[0;34m[\u001b[0m\u001b[0;36m1\u001b[0m\u001b[0;34m]\u001b[0m\u001b[0;34m)\u001b[0m\u001b[0;34m\u001b[0m\u001b[0;34m\u001b[0m\u001b[0m\n\u001b[0m",
      "\u001b[0;31mTypeError\u001b[0m: drawGraph() missing 2 required positional arguments: 'x2' and 'y2'"
     ]
    }
   ],
   "source": [
    "import matplotlib.pyplot as plt\n",
    "import numpy as np\n",
    "\n",
    "def f1(x):\n",
    "    answer = ((20/3)*x)+(700/3)\n",
    "    return answer\n",
    "\n",
    "def f2(x):\n",
    "    answer = (3.8613*x) + 180.2920\n",
    "    return answer\n",
    "\n",
    "def drawGraph(x,y,x1,y1,x2,y2):\n",
    "    plt.plot(x1,y1)\n",
    "    plt.plot(x2,y2)\n",
    "    ### plot three points\n",
    "    plt.scatter(x, y,c='red')\n",
    "    ### optics\n",
    "    plt.axhline(0, color='black')\n",
    "    plt.axvline(0, color='black')\n",
    "    plt.xlim(-20,0)\n",
    "    plt.ylim(90,150)\n",
    "    #plt.xticks(np.arange(-10,11))\n",
    "    #plt.yticks(np.arange(-10,11))\n",
    "    plt.grid(True)\n",
    "    plt.show()\n",
    "    \n",
    "def createArrays():\n",
    "    intervals = np.arange(-20,0,.001)\n",
    "    a = []\n",
    "    b = []\n",
    "    for t in intervals:\n",
    "        a.append(t)\n",
    "        b.append(f1(t))\n",
    "    x = np.array(a)\n",
    "    y = np.array(b)\n",
    "    return x, y\n",
    "\n",
    "x = np.array([-20,-17,-15,-14,-10])\n",
    "y = np.array([100,120,118,130,140])\n",
    "\n",
    "drawGraph(x, y, createArrays()[0], createArrays()[1])"
   ]
  },
  {
   "cell_type": "markdown",
   "metadata": {},
   "source": [
    "#### 17.)"
   ]
  },
  {
   "cell_type": "markdown",
   "metadata": {},
   "source": [
    "#### 21.)"
   ]
  }
 ],
 "metadata": {
  "kernelspec": {
   "display_name": "Python 3",
   "language": "python",
   "name": "python3"
  },
  "language_info": {
   "codemirror_mode": {
    "name": "ipython",
    "version": 3
   },
   "file_extension": ".py",
   "mimetype": "text/x-python",
   "name": "python",
   "nbconvert_exporter": "python",
   "pygments_lexer": "ipython3",
   "version": "3.6.7"
  }
 },
 "nbformat": 4,
 "nbformat_minor": 2
}
