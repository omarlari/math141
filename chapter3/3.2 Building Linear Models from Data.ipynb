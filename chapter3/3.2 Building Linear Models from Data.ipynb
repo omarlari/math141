{
 "cells": [
  {
   "cell_type": "markdown",
   "metadata": {},
   "source": [
    "#### Problems 5, 9, 15, 17, 21"
   ]
  },
  {
   "cell_type": "markdown",
   "metadata": {},
   "source": [
    "#### 5.) Linear"
   ]
  },
  {
   "cell_type": "markdown",
   "metadata": {},
   "source": [
    "#### 9.) Non-linear"
   ]
  },
  {
   "cell_type": "markdown",
   "metadata": {},
   "source": [
    "#### 15.)\n",
    "\n",
    "(a) see graph below\n",
    "\n",
    "(b) selected two points (-20, 100) and (-17,120)\n",
    "\n",
    "slope:\n",
    "\n",
    "120-100/(-17)-(-20)\n",
    "\n",
    "20/3 \n",
    "\n",
    "$y - y_{1} = m(x - x_{1})$\n",
    "\n",
    "$y - 100 = 20/3(x-(-20))$ \n",
    "\n",
    "$y - 100 = 20/3(x+20)$\n",
    "\n",
    "$y - 100 = 20/3x + 20/3(20)$\n",
    "\n",
    "$y = 20/3x + 700/3$\n",
    "\n",
    "\n",
    "(c) See graph below\n",
    "\n",
    "(d) line of best fit\n",
    "\n",
    "$y = 3.8613x + 180.2920$\n",
    "\n",
    "(e) see graph below\n",
    "\n"
   ]
  },
  {
   "cell_type": "code",
   "execution_count": 57,
   "metadata": {},
   "outputs": [
    {
     "name": "stdout",
     "output_type": "stream",
     "text": [
      "6.66666666667\n"
     ]
    }
   ],
   "source": [
    "def slope(x1,x2,y1,y2):\n",
    "    answer = (y2-y1)/(x2-x1)\n",
    "    return answer\n",
    "\n",
    "x = np.array([-20,-17,-15,-14,-10])\n",
    "y = np.array([100,120,118,130,140])\n",
    "\n",
    "slope = slope(x[0],x[1],y[0],y[1])\n",
    "print(slope)"
   ]
  },
  {
   "cell_type": "code",
   "execution_count": 88,
   "metadata": {},
   "outputs": [
    {
     "name": "stdout",
     "output_type": "stream",
     "text": [
      "Raw fit results:\n",
      "poly([ 180.2919708     3.86131387])\n",
      "[array([ 74.1459854]), 2, array([ 1.40609139,  0.15135056]), 1.1102230246251565e-15]\n"
     ]
    }
   ],
   "source": [
    "import numpy as np\n",
    "import pylab\n",
    "Polynomial = np.polynomial.Polynomial\n",
    "\n",
    "def lineOfBestFit(x,y):\n",
    "    \n",
    "    cmin, cmax = min(x), max(x)\n",
    "    pfit, stats = Polynomial.fit(x, y, 1, full=True, window=(cmin, cmax),\n",
    "                                                    domain=(cmin, cmax))\n",
    "\n",
    "    print('Raw fit results:', pfit, stats, sep='\\n')\n",
    "    \n",
    "x = np.array([-20,-17,-15,-14,-10])\n",
    "y = np.array([100,120,118,130,140])\n",
    "\n",
    "lineOfBestFit(x,y)"
   ]
  },
  {
   "cell_type": "code",
   "execution_count": 87,
   "metadata": {},
   "outputs": [
    {
     "data": {
      "image/png": "[encoded data removed]",
      "text/plain": [
       "<Figure size 432x288 with 1 Axes>"
      ]
     },
     "metadata": {
      "needs_background": "light"
     },
     "output_type": "display_data"
    }
   ],
   "source": [
    "import matplotlib.pyplot as plt\n",
    "import numpy as np\n",
    "\n",
    "def f1(x):\n",
    "    answer = ((20/3)*x)+(700/3)\n",
    "    return answer\n",
    "\n",
    "def f2(x):\n",
    "    answer = (3.8613*x) + 180.2920\n",
    "    return answer\n",
    "\n",
    "def drawGraph(x,y,x1,y1,x2,y2):\n",
    "    plt.plot(x1,y1)\n",
    "    plt.plot(x2,y2)\n",
    "    plt.scatter(x, y,c='red')\n",
    "    plt.xlim(-20,0)\n",
    "    plt.ylim(90,150)\n",
    "    plt.grid(True)\n",
    "    plt.show()\n",
    "    \n",
    "def createArrays():\n",
    "    intervals = np.arange(-20,0,.001)\n",
    "    a = []\n",
    "    b = []\n",
    "    for t in intervals:\n",
    "        a.append(t)\n",
    "        b.append(f1(t))\n",
    "    x = np.array(a)\n",
    "    y = np.array(b)\n",
    "    return x, y\n",
    "\n",
    "def createArrays2():\n",
    "    intervals = np.arange(-20,0,.001)\n",
    "    a = []\n",
    "    b = []\n",
    "    for t in intervals:\n",
    "        a.append(t)\n",
    "        b.append(f2(t))\n",
    "    x = np.array(a)\n",
    "    y = np.array(b)\n",
    "    return x, y\n",
    "\n",
    "x = np.array([-20,-17,-15,-14,-10])\n",
    "y = np.array([100,120,118,130,140])\n",
    "\n",
    "drawGraph(x, y, createArrays()[0], createArrays()[1],createArrays2()[0], createArrays2()[1])"
   ]
  },
  {
   "cell_type": "markdown",
   "metadata": {},
   "source": [
    "#### 17.)\n",
    "\n",
    "(a) see below\n",
    "\n",
    "(b) linear\n",
    "\n",
    "(c)\n",
    "\n",
    "(44.28, 230) and (39.52, 210)\n",
    "\n",
    "slope $\\approx$ 4.2\n",
    "\n",
    "$y - y_{1} = m(x - x_{1})$\n",
    "\n",
    "y - 230 = 4.2(x-44.28)\n",
    "\n",
    "y - 230 = 4.2x - 185.976\n",
    "\n",
    "y = 4.2x + 44.024\n",
    "\n",
    "(d) see below\n",
    "\n",
    "(e) using this model a bar weighing 62.3 grams would have 305.684 calories\n",
    "\n",
    "(f) this model suggest that for every gram of bar weight you see a 4.2 average caloric increase.\n",
    "\n"
   ]
  },
  {
   "cell_type": "code",
   "execution_count": 85,
   "metadata": {},
   "outputs": [
    {
     "data": {
      "image/png": "[encoded data removed]",
      "text/plain": [
       "<Figure size 432x288 with 1 Axes>"
      ]
     },
     "metadata": {
      "needs_background": "light"
     },
     "output_type": "display_data"
    },
    {
     "name": "stdout",
     "output_type": "stream",
     "text": [
      "the slope is:  4.20168067227\n",
      "using this model a bar weighing 62.3 grams would have 305.684 calories\n"
     ]
    }
   ],
   "source": [
    "import matplotlib.pyplot as plt\n",
    "import numpy as np\n",
    "\n",
    "def slope(x1,x2,y1,y2):\n",
    "    answer = (y2-y1)/(x2-x1)\n",
    "    return answer\n",
    "\n",
    "def f1(x):\n",
    "    answer = (4.2*x)+44.024\n",
    "    return answer\n",
    "\n",
    "def drawGraph(x,y,x1,y1):\n",
    "    plt.plot(x1,y1)\n",
    "    plt.scatter(x, y,c='red')\n",
    "    plt.grid(True)\n",
    "    plt.show()\n",
    "    \n",
    "def createArrays(f, lowerBound, upperBound):\n",
    "    intervals = np.arange(lowerBound, upperBound,.001)\n",
    "    a = []\n",
    "    b = []\n",
    "    for t in intervals:\n",
    "        a.append(t)\n",
    "        b.append(f(t))\n",
    "    x = np.array(a)\n",
    "    y = np.array(b)\n",
    "    return x, y\n",
    "\n",
    "x = np.array([44.28,44.84,61.30,66.45,47.33,58.00,61.12,39.52])\n",
    "y = np.array([230,230,270,280,220,280,280,210])\n",
    "\n",
    "a = createArrays(f1,25,75)\n",
    "drawGraph(x,y,a[0],a[1])\n",
    "\n",
    "slope = slope(x[0],x[7],y[0],y[7])\n",
    "print(\"the slope is: \", slope)\n",
    "\n",
    "print(\"using this model a bar weighing 62.3 grams would have\",f1(62.3),\"calories\")"
   ]
  },
  {
   "cell_type": "markdown",
   "metadata": {},
   "source": [
    "#### 21.)\n",
    "\n",
    "(a) see below\n",
    "\n",
    "(b) 63.23358104   0.54263908\n",
    "\n",
    "y = .5426x + 63.2336\n",
    "\n",
    "(c) for each additional flight time minutes the price increases by about 55 cents.\n",
    "\n",
    "(d) $109\n",
    "\n",
    "(e) 120 = .5426x + 63.2336\n",
    "\n",
    "56.7664 = .5426x\n",
    "\n",
    "56.7664/.5426 = x\n",
    "\n",
    "x = 104.61924\n",
    "\n",
    "A $\\120 flight $\\approx$ 150 minutes "
   ]
  },
  {
   "cell_type": "code",
   "execution_count": 102,
   "metadata": {},
   "outputs": [
    {
     "data": {
      "image/png": "[encoded data removed]",
      "text/plain": [
       "<Figure size 432x288 with 1 Axes>"
      ]
     },
     "metadata": {
      "needs_background": "light"
     },
     "output_type": "display_data"
    },
    {
     "name": "stdout",
     "output_type": "stream",
     "text": [
      "Raw fit results: poly([ 63.23358104   0.54263908])\n",
      "109.3546\n"
     ]
    }
   ],
   "source": [
    "import matplotlib.pyplot as plt\n",
    "import numpy as np\n",
    "import pylab\n",
    "Polynomial = np.polynomial.Polynomial\n",
    "\n",
    "def lineOfBestFit(x,y):   \n",
    "    cmin, cmax = min(x), max(x)\n",
    "    pfit, stats = Polynomial.fit(x, y, 1, full=True, window=(cmin, cmax),\n",
    "                                                    domain=(cmin, cmax))\n",
    "    print('Raw fit results:', pfit)\n",
    "    # https://numpy.org/doc/stable/reference/generated/numpy.polynomial.polynomial.Polynomial.fit.html#numpy.polynomial.polynomial.Polynomial.fit\n",
    "    \n",
    "def slope(x1,x2,y1,y2):\n",
    "    answer = (y2-y1)/(x2-x1)\n",
    "    return answer\n",
    "\n",
    "def f1(x):\n",
    "    answer = (.5426*x) + 63.2336\n",
    "    return answer\n",
    "\n",
    "def drawGraph(x,y,x1,y1):\n",
    "    plt.plot(x1,y1)\n",
    "    #plt.plot(x2,y2)    \n",
    "    plt.scatter(x, y,c='red')\n",
    "    plt.grid(True)\n",
    "    plt.show()\n",
    "    \n",
    "def createArrays(f, lowerBound, upperBound):\n",
    "    intervals = np.arange(lowerBound, upperBound,.001)\n",
    "    a = []\n",
    "    b = []\n",
    "    for t in intervals:\n",
    "        a.append(t)\n",
    "        b.append(f(t))\n",
    "    x = np.array(a)\n",
    "    y = np.array(b)\n",
    "    return x, y\n",
    "\n",
    "x = np.array([110,260,80,125,85,170,225,155,265,65])\n",
    "y = np.array([140,199,108,130,89,175,191,147,196,93])\n",
    "\n",
    "a = createArrays(f1,50,300)\n",
    "drawGraph(x,y,a[0],a[1])\n",
    "\n",
    "lineOfBestFit(x,y)\n",
    "\n",
    "print(f1(85))"
   ]
  }
 ],
 "metadata": {
  "kernelspec": {
   "display_name": "Python 3",
   "language": "python",
   "name": "python3"
  },
  "language_info": {
   "codemirror_mode": {
    "name": "ipython",
    "version": 3
   },
   "file_extension": ".py",
   "mimetype": "text/x-python",
   "name": "python",
   "nbconvert_exporter": "python",
   "pygments_lexer": "ipython3",
   "version": "3.6.7"
  }
 },
 "nbformat": 4,
 "nbformat_minor": 2
}
