{
 "cells": [
  {
   "cell_type": "markdown",
   "metadata": {},
   "source": [
    "#### 2.3 Properties of Functions \n",
    "Problems for you to do:  13, 15, 17, 19, 21, 25, 33, 37, 49, 57, 65, 71, 81"
   ]
  },
  {
   "cell_type": "markdown",
   "metadata": {},
   "source": [
    "#### 13.)\n",
    "\n",
    "Yes"
   ]
  },
  {
   "cell_type": "markdown",
   "metadata": {},
   "source": [
    "#### 15.) \n",
    "No"
   ]
  },
  {
   "cell_type": "markdown",
   "metadata": {},
   "source": [
    "#### 17.)\n",
    "\n",
    "(-8,-2); (0,2); (5,7)"
   ]
  },
  {
   "cell_type": "markdown",
   "metadata": {},
   "source": [
    "#### 19.) \n",
    "\n",
    "yes, 10"
   ]
  },
  {
   "cell_type": "markdown",
   "metadata": {},
   "source": [
    "#### 21.)\n",
    "\n",
    "(-2,6); (6,10)"
   ]
  },
  {
   "cell_type": "markdown",
   "metadata": {},
   "source": [
    "#### 25.)\n",
    "\n",
    "(a) (0,3)\n",
    "\n",
    "(b) \n",
    "domain: [-4,4]\n",
    "\n",
    "range: [0,3]\n",
    "\n",
    "(c)\n",
    "increasing: (-2,0) and (2,4)\n",
    "\n",
    "decreasing: (-4,-2) and (0,2)\n",
    "\n",
    "(d) function is even, symmetry across the y-axis"
   ]
  },
  {
   "cell_type": "markdown",
   "metadata": {},
   "source": [
    "#### 33.)\n",
    "\n",
    "(a) local maximum at 0, value = 3\n",
    "\n",
    "(b) local minumums at -2 and 2, value is zero for both"
   ]
  },
  {
   "cell_type": "markdown",
   "metadata": {},
   "source": [
    "#### 37.)\n",
    "\n",
    "$f(x) = 4x^3$\n",
    "\n",
    "$f(-x) = 4(-x^3)$\n",
    "\n",
    "$f(-x) = -4x^3$\n",
    "\n",
    "$f(-x) = -f(x)$ makes this an odd function\n"
   ]
  },
  {
   "cell_type": "markdown",
   "metadata": {},
   "source": [
    "#### 49.) \n",
    " Absolute max is at (1,4): $f(1) = 4 $ \n",
    " \n",
    " Absolute min is at (5,1): $f(5) = 1 $\n",
    " \n",
    " Local max is at (3,3): $f(3) = 3$\n",
    " \n",
    " Local min (2,2): $f(2) = 2$"
   ]
  },
  {
   "cell_type": "markdown",
   "metadata": {},
   "source": [
    "#### 57.) $f(x) = x^3 - 3x +2$\n",
    "\n",
    "(a) local max is at (-1, 4): $f(-1) = 4$\n",
    "\n",
    "(b) local min is at (1, 0): $f(1) = 0$\n",
    "\n",
    "(c) increasing: (-2, -1)\n",
    "\n",
    "(d) decreasing: (-1, 1)\n",
    "\n"
   ]
  },
  {
   "cell_type": "code",
   "execution_count": 9,
   "metadata": {},
   "outputs": [
    {
     "data": {
      "image/png": "[encoded data removed]",
      "text/plain": [
       "<Figure size 432x288 with 1 Axes>"
      ]
     },
     "metadata": {
      "needs_background": "light"
     },
     "output_type": "display_data"
    }
   ],
   "source": [
    "import matplotlib.pyplot as plt\n",
    "import numpy as np\n",
    "\n",
    "def f1(x):\n",
    "    answer = (x**3)-(3*x)+2\n",
    "    return answer\n",
    "\n",
    "def drawGraph(x,y):\n",
    "    plt.plot(x, y)\n",
    "    #plt.xlabel('distance')\n",
    "    #plt.ylabel('height')\n",
    "    #plt.title('Projectile motion of a golfball')\n",
    "    plt.grid(True)\n",
    "    plt.show()\n",
    "\n",
    "def createArrays():\n",
    "    intervals = np.arange(-2,2,.1)\n",
    "    a = []\n",
    "    b = []\n",
    "    for t in intervals:\n",
    "        a.append(t)\n",
    "        b.append(f1(t))\n",
    "    x = np.array(a)\n",
    "    y = np.array(b)\n",
    "    return x, y\n",
    "\n",
    "drawGraph(createArrays()[0], createArrays()[1])"
   ]
  },
  {
   "cell_type": "markdown",
   "metadata": {},
   "source": [
    "#### 65.) Find the average of change of $f(x) = -2x^2+4$\n",
    "\n",
    "(a) from 0 to 2 = -4\n",
    "\n",
    "(b) from 1 to 3 = -8\n",
    "\n",
    "(c) from 1 to 4 = -10"
   ]
  },
  {
   "cell_type": "code",
   "execution_count": 25,
   "metadata": {},
   "outputs": [
    {
     "name": "stdout",
     "output_type": "stream",
     "text": [
      "-4.0\n",
      "-8.0\n",
      "-10.0\n"
     ]
    }
   ],
   "source": [
    "def secant(a,b):\n",
    "    secant = (f(b)-f(a))/(b-a)\n",
    "    return secant\n",
    "\n",
    "def f(x):\n",
    "    answer = (-2*x**2) + 4\n",
    "    return answer\n",
    "    \n",
    "print(secant(0,2))\n",
    "print(secant(1,3))\n",
    "print(secant(1,4))"
   ]
  },
  {
   "cell_type": "markdown",
   "metadata": {},
   "source": [
    "#### 71.) $g(x) = x^2-2$\n",
    "\n",
    "(a) Find the average rate of change from -2 to 1\n",
    "\n",
    "= -1\n",
    "\n",
    "(b) Find an equation of the secant line containing $(-2,g(-2)) (2, g(2)) $\n",
    "\n",
    "(-2, 2), (2,2)\n",
    "\n",
    "$ y - y_{1} = m_{sec}(x-x_{1})$\n",
    "\n",
    "$ y - 2 = -1(x-(-2)) $\n",
    "\n",
    "$ y - 2 = -x -2 $\n",
    "\n",
    "$ y = -x $"
   ]
  },
  {
   "cell_type": "code",
   "execution_count": 3,
   "metadata": {},
   "outputs": [
    {
     "name": "stdout",
     "output_type": "stream",
     "text": [
      "-1.0\n",
      "2\n",
      "2\n"
     ]
    }
   ],
   "source": [
    "def f(x):\n",
    "    answer = (x**2) - 2\n",
    "    return answer\n",
    "\n",
    "def secant(a,b):\n",
    "    secant = (f(b)-f(a))/(b-a)\n",
    "    return secant\n",
    "\n",
    "print(secant(-2,1))\n",
    "\n",
    "print(f(-2))\n",
    "print(f(2))\n"
   ]
  },
  {
   "cell_type": "markdown",
   "metadata": {},
   "source": [
    "#### 81.) Data Plan Cost"
   ]
  },
  {
   "cell_type": "code",
   "execution_count": 43,
   "metadata": {},
   "outputs": [
    {
     "ename": "TypeError",
     "evalue": "'tuple' object is not callable",
     "output_type": "error",
     "traceback": [
      "\u001b[0;31m---------------------------------------------------------------------------\u001b[0m",
      "\u001b[0;31mTypeError\u001b[0m                                 Traceback (most recent call last)",
      "\u001b[0;32m<ipython-input-43-723300be7c74>\u001b[0m in \u001b[0;36m<module>\u001b[0;34m\u001b[0m\n\u001b[1;32m     21\u001b[0m \u001b[0mx\u001b[0m \u001b[0;34m=\u001b[0m \u001b[0mnp\u001b[0m\u001b[0;34m.\u001b[0m\u001b[0marray\u001b[0m\u001b[0;34m(\u001b[0m\u001b[0ma\u001b[0m\u001b[0;34m)\u001b[0m\u001b[0;34m\u001b[0m\u001b[0;34m\u001b[0m\u001b[0m\n\u001b[1;32m     22\u001b[0m \u001b[0my\u001b[0m \u001b[0;34m=\u001b[0m \u001b[0mnp\u001b[0m\u001b[0;34m.\u001b[0m\u001b[0marray\u001b[0m\u001b[0;34m(\u001b[0m\u001b[0mb\u001b[0m\u001b[0;34m)\u001b[0m\u001b[0;34m\u001b[0m\u001b[0;34m\u001b[0m\u001b[0m\n\u001b[0;32m---> 23\u001b[0;31m \u001b[0mdrawGraph\u001b[0m\u001b[0;34m(\u001b[0m\u001b[0mx\u001b[0m\u001b[0;34m,\u001b[0m\u001b[0my\u001b[0m\u001b[0;34m)\u001b[0m\u001b[0;34m\u001b[0m\u001b[0;34m\u001b[0m\u001b[0m\n\u001b[0m",
      "\u001b[0;32m<ipython-input-43-723300be7c74>\u001b[0m in \u001b[0;36mdrawGraph\u001b[0;34m(x, y)\u001b[0m\n\u001b[1;32m     11\u001b[0m     \u001b[0mx_values\u001b[0m \u001b[0;34m=\u001b[0m \u001b[0;34m[\u001b[0m\u001b[0mpoint1\u001b[0m\u001b[0;34m[\u001b[0m\u001b[0;36m0\u001b[0m\u001b[0;34m]\u001b[0m\u001b[0;34m,\u001b[0m \u001b[0mpoint2\u001b[0m\u001b[0;34m[\u001b[0m\u001b[0;36m0\u001b[0m\u001b[0;34m]\u001b[0m\u001b[0;34m]\u001b[0m\u001b[0;34m\u001b[0m\u001b[0;34m\u001b[0m\u001b[0m\n\u001b[1;32m     12\u001b[0m     \u001b[0my_values\u001b[0m \u001b[0;34m=\u001b[0m \u001b[0;34m[\u001b[0m\u001b[0mpoint1\u001b[0m\u001b[0;34m[\u001b[0m\u001b[0;36m1\u001b[0m\u001b[0;34m]\u001b[0m\u001b[0;34m,\u001b[0m \u001b[0mpoint2\u001b[0m\u001b[0;34m[\u001b[0m\u001b[0;36m1\u001b[0m\u001b[0;34m]\u001b[0m\u001b[0;34m]\u001b[0m\u001b[0;34m\u001b[0m\u001b[0;34m\u001b[0m\u001b[0m\n\u001b[0;32m---> 13\u001b[0;31m     \u001b[0mplt\u001b[0m\u001b[0;34m.\u001b[0m\u001b[0mplot\u001b[0m\u001b[0;34m(\u001b[0m\u001b[0mx\u001b[0m\u001b[0;34m,\u001b[0m\u001b[0my\u001b[0m\u001b[0;34m)\u001b[0m\u001b[0;34m\u001b[0m\u001b[0;34m\u001b[0m\u001b[0m\n\u001b[0m\u001b[1;32m     14\u001b[0m     \u001b[0;31m#plt.scatter(x, y)\u001b[0m\u001b[0;34m\u001b[0m\u001b[0;34m\u001b[0m\u001b[0;34m\u001b[0m\u001b[0m\n\u001b[1;32m     15\u001b[0m \u001b[0;34m\u001b[0m\u001b[0m\n",
      "\u001b[0;31mTypeError\u001b[0m: 'tuple' object is not callable"
     ]
    }
   ],
   "source": [
    "import matplotlib.pyplot as plt\n",
    "import numpy as np\n",
    "\n",
    "def f1(x):\n",
    "    answer = (x**3)-(3*x)+2\n",
    "    return answer\n",
    "\n",
    "def drawGraph(x,y):\n",
    "    point1 = [10,100]\n",
    "    point2 = [30,225]\n",
    "    x_values = [point1[0], point2[0]]\n",
    "    y_values = [point1[1], point2[1]]\n",
    "    plt.plot(x,y)\n",
    "    #plt.scatter(x, y)\n",
    "    \n",
    "    plt.grid(True)\n",
    "    plt.show()\n",
    "\n",
    "a = [4,6,10,15,20,30,40,50]\n",
    "b = [70,80,100,130,150,225,300,375]\n",
    "x = np.array(a)\n",
    "y = np.array(b)\n",
    "drawGraph(x,y)"
   ]
  },
  {
   "cell_type": "code",
   "execution_count": 10,
   "metadata": {},
   "outputs": [
    {
     "name": "stdout",
     "output_type": "stream",
     "text": [
      "hello chapter 2.3\n"
     ]
    }
   ],
   "source": [
    "print(\"hello chapter 2.3\")"
   ]
  }
 ],
 "metadata": {
  "kernelspec": {
   "display_name": "Python 3",
   "language": "python",
   "name": "python3"
  },
  "language_info": {
   "codemirror_mode": {
    "name": "ipython",
    "version": 3
   },
   "file_extension": ".py",
   "mimetype": "text/x-python",
   "name": "python",
   "nbconvert_exporter": "python",
   "pygments_lexer": "ipython3",
   "version": "3.6.7"
  }
 },
 "nbformat": 4,
 "nbformat_minor": 2
}
