{
 "cells": [
  {
   "cell_type": "markdown",
   "metadata": {},
   "source": [
    "#### Problems for you to do:  11, 13, 15, 17, 25, 27, 31, 35, 43, 47, 51"
   ]
  },
  {
   "cell_type": "markdown",
   "metadata": {},
   "source": [
    "#### 11.)  C (square function)"
   ]
  },
  {
   "cell_type": "markdown",
   "metadata": {},
   "source": [
    "#### 13.) D (cube function)"
   ]
  },
  {
   "cell_type": "markdown",
   "metadata": {},
   "source": [
    "#### 15.) B (identity function)"
   ]
  },
  {
   "cell_type": "markdown",
   "metadata": {},
   "source": [
    "#### 17.) F (reciprocal function)"
   ]
  },
  {
   "cell_type": "markdown",
   "metadata": {},
   "source": [
    "#### 25.) graph the function $f(x)=\\sqrt[3]{x}$\n",
    "\n",
    "see below:"
   ]
  },
  {
   "cell_type": "code",
   "execution_count": 29,
   "metadata": {},
   "outputs": [
    {
     "data": {
      "image/png": "[encoded data removed]",
      "text/plain": [
       "<Figure size 432x288 with 1 Axes>"
      ]
     },
     "metadata": {
      "needs_background": "light"
     },
     "output_type": "display_data"
    }
   ],
   "source": [
    "import matplotlib.pyplot as plt\n",
    "import numpy as np\n",
    "\n",
    "def f1(x):\n",
    "    answer = x**(1/float(3))\n",
    "    return answer\n",
    "\n",
    "def drawGraph(x,y):\n",
    "    plt.plot(x, y)\n",
    "    plt.scatter(1, f1(1),c='red')\n",
    "    plt.scatter(8, f1(8),c='red')\n",
    "    plt.scatter(0, f1(0),c='red')\n",
    "    plt.text(1, f1(1), '(1,1)')\n",
    "    plt.text(0, f1(0), '(0,0)')\n",
    "    plt.text(8, f1(8), '(2,8)')\n",
    "    plt.grid(True)\n",
    "    plt.show()\n",
    "\n",
    "def createArrays():\n",
    "    intervals = np.arange(0,10,.001)\n",
    "    a = []\n",
    "    b = []\n",
    "    for t in intervals:\n",
    "        a.append(t)\n",
    "        b.append(f1(t))\n",
    "    x = np.array(a)\n",
    "    y = np.array(b)\n",
    "    return x, y\n",
    "\n",
    "drawGraph(createArrays()[0], createArrays()[1])"
   ]
  },
  {
   "cell_type": "markdown",
   "metadata": {},
   "source": [
    "#### 27.)"
   ]
  },
  {
   "cell_type": "markdown",
   "metadata": {},
   "source": [
    "if $\n",
    "\\displaystyle f(x) = \\begin{cases}\n",
    " x^2 & \\text{if $x < 0$} \\\\ \n",
    " 2 & \\text{if $x = 0$} \\\\ \n",
    " 2x+1 & \\text{if $x > 0$} \n",
    " \\end{cases}\n",
    "$"
   ]
  },
  {
   "cell_type": "code",
   "execution_count": 36,
   "metadata": {},
   "outputs": [
    {
     "data": {
      "image/png": "[encoded data removed]",
      "text/plain": [
       "<Figure size 432x288 with 1 Axes>"
      ]
     },
     "metadata": {
      "needs_background": "light"
     },
     "output_type": "display_data"
    }
   ],
   "source": [
    "import matplotlib.pyplot as plt\n",
    "import numpy as np\n",
    "\n",
    "def f1(x):\n",
    "    if x < 0:\n",
    "        answer = x**2\n",
    "    if x == 2:\n",
    "        answer = 0\n",
    "    if x > 0:\n",
    "        (2*x)+1\n",
    "    return answer\n",
    "\n",
    "def f2(x):\n",
    "    answer = 0\n",
    "    return answer\n",
    "\n",
    "def f3(x):\n",
    "    answer = (2*x)+1\n",
    "    return answer\n",
    "\n",
    "def drawGraph(x,y):\n",
    "    plt.plot(x, y)\n",
    "    plt.scatter(2, f2(2),c='red')\n",
    "    #plt.scatter(8, f1(8),c='red')\n",
    "    #plt.scatter(0, f1(0),c='red')\n",
    "    plt.text(1, f1(1), '(1,1)')\n",
    "    plt.text(0, f1(0), '(0,0)')\n",
    "    plt.text(8, f1(8), '(2,8)')\n",
    "    plt.grid(True)\n",
    "    plt.show()\n",
    "\n",
    "def createArrays(x):\n",
    "    if x < 0:\n",
    "        intervals = np.arange(-10,0,.01)\n",
    "    if x == 2:\n",
    "        intervals = np.arange (-1.9,1.9,.01)\n",
    "    if x > 0:\n",
    "        intervals = np.arange(0,10,.01)\n",
    "    a = []\n",
    "    b = []\n",
    "    for t in intervals:\n",
    "        a.append(t)\n",
    "        b.append(f1(t))\n",
    "    x = np.array(a)\n",
    "    y = np.array(b)\n",
    "    return x, y\n",
    "\n",
    "drawGraph(createArrays(-10)[0], createArrays(-10)[1])"
   ]
  },
  {
   "cell_type": "markdown",
   "metadata": {},
   "source": [
    "#### 31.)"
   ]
  },
  {
   "cell_type": "markdown",
   "metadata": {},
   "source": [
    "#### 35.)"
   ]
  },
  {
   "cell_type": "markdown",
   "metadata": {},
   "source": [
    "#### 43.)"
   ]
  },
  {
   "cell_type": "markdown",
   "metadata": {},
   "source": [
    "#### 47.)"
   ]
  },
  {
   "cell_type": "markdown",
   "metadata": {},
   "source": [
    "#### 51.)"
   ]
  },
  {
   "cell_type": "code",
   "execution_count": 4,
   "metadata": {},
   "outputs": [
    {
     "data": {
      "image/png": "[encoded data removed]",
      "text/plain": [
       "<Figure size 432x288 with 1 Axes>"
      ]
     },
     "metadata": {
      "needs_background": "light"
     },
     "output_type": "display_data"
    }
   ],
   "source": [
    "import matplotlib.pyplot as plt\n",
    "import numpy as np\n",
    "\n",
    "def f1(x):\n",
    "    answer = x**2\n",
    "    return answer\n",
    "\n",
    "def drawGraph(x,y):\n",
    "    plt.plot(x, y)\n",
    "    #plt.xlabel('distance')\n",
    "    #plt.ylabel('height')\n",
    "    #plt.title('Projectile motion of a golfball')\n",
    "    plt.grid(True)\n",
    "    plt.show()\n",
    "\n",
    "def createArrays():\n",
    "    intervals = np.arange(-2,2,.1)\n",
    "    a = []\n",
    "    b = []\n",
    "    for t in intervals:\n",
    "        a.append(t)\n",
    "        b.append(f1(t))\n",
    "    x = np.array(a)\n",
    "    y = np.array(b)\n",
    "    return x, y\n",
    "\n",
    "drawGraph(createArrays()[0], createArrays()[1])"
   ]
  }
 ],
 "metadata": {
  "kernelspec": {
   "display_name": "Python 3",
   "language": "python",
   "name": "python3"
  },
  "language_info": {
   "codemirror_mode": {
    "name": "ipython",
    "version": 3
   },
   "file_extension": ".py",
   "mimetype": "text/x-python",
   "name": "python",
   "nbconvert_exporter": "python",
   "pygments_lexer": "ipython3",
   "version": "3.6.7"
  }
 },
 "nbformat": 4,
 "nbformat_minor": 2
}
