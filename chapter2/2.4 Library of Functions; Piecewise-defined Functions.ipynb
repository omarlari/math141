{
 "cells": [
  {
   "cell_type": "markdown",
   "metadata": {},
   "source": [
    "#### Problems for you to do:  11, 13, 15, 17, 25, 27, 31, 35, 43, 47, 51"
   ]
  },
  {
   "cell_type": "markdown",
   "metadata": {},
   "source": [
    "#### 11.)  C (square function)"
   ]
  },
  {
   "cell_type": "markdown",
   "metadata": {},
   "source": [
    "#### 13.) D (cube function)"
   ]
  },
  {
   "cell_type": "markdown",
   "metadata": {},
   "source": [
    "#### 15.) B (identity function)"
   ]
  },
  {
   "cell_type": "markdown",
   "metadata": {},
   "source": [
    "#### 17.) F (reciprocal function)"
   ]
  },
  {
   "cell_type": "markdown",
   "metadata": {},
   "source": [
    "#### 25.) graph the function $f(x)=\\sqrt[3]{x}$\n",
    "\n",
    "see below:"
   ]
  },
  {
   "cell_type": "code",
   "execution_count": 64,
   "metadata": {},
   "outputs": [
    {
     "data": {
      "image/png": "[encoded data removed]",
      "text/plain": [
       "<Figure size 432x288 with 1 Axes>"
      ]
     },
     "metadata": {
      "needs_background": "light"
     },
     "output_type": "display_data"
    }
   ],
   "source": [
    "import matplotlib.pyplot as plt\n",
    "import numpy as np\n",
    "\n",
    "def f1(x):\n",
    "    answer = x**(1/float(3))\n",
    "    return answer\n",
    "\n",
    "def drawGraph(x,y):\n",
    "    plt.plot(x, y)\n",
    "    plt.scatter(1, f1(1),c='red')\n",
    "    plt.scatter(8, f1(8),c='red')\n",
    "    plt.scatter(0, f1(0),c='red')\n",
    "    plt.text(1, f1(1), '(1,1)')\n",
    "    plt.text(0, f1(0), '(0,0)')\n",
    "    plt.text(8, f1(8), '(2,8)')\n",
    "    plt.grid(True)\n",
    "    plt.show()\n",
    "\n",
    "def createArrays():\n",
    "    intervals = np.arange(0,10,.001)\n",
    "    a = []\n",
    "    b = []\n",
    "    for t in intervals:\n",
    "        a.append(t)\n",
    "        b.append(f1(t))\n",
    "    x = np.array(a)\n",
    "    y = np.array(b)\n",
    "    return x, y\n",
    "\n",
    "drawGraph(createArrays()[0], createArrays()[1])"
   ]
  },
  {
   "cell_type": "markdown",
   "metadata": {},
   "source": [
    "#### 27.)"
   ]
  },
  {
   "cell_type": "markdown",
   "metadata": {},
   "source": [
    "if $\n",
    "\\displaystyle f(x) = \\begin{cases}\n",
    " x^2 & \\text{if $x < 0$} \\\\ \n",
    " 2 & \\text{if $x = 0$} \\\\ \n",
    " 2x+1 & \\text{if $x > 0$} \n",
    " \\end{cases}\n",
    "$\n",
    "\n",
    "(a) 4\n",
    "\n",
    "(b) 2\n",
    "\n",
    "(c) 5"
   ]
  },
  {
   "cell_type": "code",
   "execution_count": 65,
   "metadata": {},
   "outputs": [
    {
     "name": "stdout",
     "output_type": "stream",
     "text": [
      "4\n",
      "2\n",
      "5\n"
     ]
    }
   ],
   "source": [
    "import matplotlib.pyplot as plt\n",
    "import numpy as np\n",
    "\n",
    "def f1(x):\n",
    "    if x < 0:\n",
    "        answer = x**2\n",
    "    if x == 0:\n",
    "        answer = 2\n",
    "    if x > 0:\n",
    "        answer = (2*x)+1\n",
    "    return answer\n",
    "\n",
    "print(f1(-2))\n",
    "print(f1(0))\n",
    "print(f1(2))"
   ]
  },
  {
   "cell_type": "markdown",
   "metadata": {},
   "source": [
    "#### 31.) \n",
    "\n",
    "(a) \n",
    "\n",
    "Domain = $\\mathbb{R} $\n",
    "\n",
    "(b) \n",
    "\n",
    "(0,1)\n",
    "\n",
    "(c) \n",
    "\n",
    "see below\n",
    "\n",
    "(d) Range:\n",
    "\n",
    "Internal notation: $(-\\infty,0)\\cup(0,\\infty)$\n",
    "\n",
    "Set notation: $\\{ x \\mid x \\neq 0 \\}$\n",
    "\n",
    "(e) \n",
    "\n",
    "Discontinuous at x = 0"
   ]
  },
  {
   "cell_type": "code",
   "execution_count": 66,
   "metadata": {},
   "outputs": [
    {
     "data": {
      "image/png": "[encoded data removed]",
      "text/plain": [
       "<Figure size 432x288 with 1 Axes>"
      ]
     },
     "metadata": {
      "needs_background": "light"
     },
     "output_type": "display_data"
    }
   ],
   "source": [
    "import matplotlib.pyplot as plt\n",
    "import numpy as np\n",
    "\n",
    "def f1(x):\n",
    "    if x != 0:\n",
    "        answer = 2*x\n",
    "    if x == 0:\n",
    "        answer = 1\n",
    "    return answer\n",
    "\n",
    "def drawGraph(x,y):\n",
    "    plt.plot(x, y)\n",
    "    plt.scatter(0,f1(0),facecolors='none',edgecolors='r', s=75)\n",
    "    #plt.xlabel('distance')\n",
    "    #plt.ylabel('height')\n",
    "    #plt.title('Projectile motion of a golfball')\n",
    "    plt.grid(True)\n",
    "    plt.show()\n",
    "\n",
    "def createArrays():\n",
    "    intervals = np.arange(-5,5,.25)\n",
    "    a = []\n",
    "    b = []\n",
    "    for t in intervals:\n",
    "        a.append(t)\n",
    "        b.append(f1(t))\n",
    "    x = np.array(a)\n",
    "    y = np.array(b)\n",
    "    return x, y\n",
    "\n",
    "drawGraph(createArrays()[0], createArrays()[1])"
   ]
  },
  {
   "cell_type": "markdown",
   "metadata": {},
   "source": [
    "#### 35.)\n",
    "\n",
    "if $\n",
    "\\displaystyle f(x) = \\begin{cases}\n",
    " x+3 & \\text{if $-2 \\leq x < 1$} \\\\ \n",
    " 5 & \\text{if $x = 1$} \\\\ \n",
    " -x+2 & \\text{if $x > 1$} \n",
    " \\end{cases}\n",
    "$\n",
    "\n",
    "(a) Domain:\n",
    "\n",
    "Interval notation: $[-2,\\infty)$\n",
    "\n",
    "Set notation: $\\{ x \\mid x \\geq -2 \\}$\n",
    "\n",
    "(b) Intercepts: (0,3), (2,0)\n",
    "\n",
    "(c) Graph: see below\n",
    "\n",
    "(d) Range: \n",
    "\n",
    "Interval notation: $(-\\infty,4) \\cup {5}$\n",
    "\n",
    "Set notation: $\\{ y \\mid y < 4, y = 5 \\}$\n",
    "\n",
    "(e) Discontinious at x =1 "
   ]
  },
  {
   "cell_type": "code",
   "execution_count": 67,
   "metadata": {},
   "outputs": [
    {
     "data": {
      "image/png": "[encoded data removed]",
      "text/plain": [
       "<Figure size 432x288 with 1 Axes>"
      ]
     },
     "metadata": {
      "needs_background": "light"
     },
     "output_type": "display_data"
    }
   ],
   "source": [
    "import matplotlib.pyplot as plt\n",
    "import numpy as np\n",
    "\n",
    "def f1(x):\n",
    "    if -2 <= x and x < 1:\n",
    "        a = x+3\n",
    "    if x == 1:\n",
    "        a = 5\n",
    "    if x > 1:\n",
    "        a = -x+2\n",
    "    return a\n",
    "\n",
    "def drawGraph(x,y):\n",
    "    plt.plot(x, y)\n",
    "    plt.scatter(1,f1(1),facecolors='none',edgecolors='r', s=75)\n",
    "    plt.grid(True)\n",
    "    plt.axhline(0, color='black')\n",
    "    plt.axvline(0, color='black')\n",
    "    plt.show()\n",
    "\n",
    "def createArrays():\n",
    "    intervals = np.arange(-2,10,1)\n",
    "    a = []\n",
    "    b = []\n",
    "    for t in intervals:\n",
    "        a.append(t)\n",
    "        b.append(f1(t))\n",
    "    x = np.array(a)\n",
    "    y = np.array(b)\n",
    "    return x, y\n",
    "\n",
    "drawGraph(createArrays()[0], createArrays()[1])"
   ]
  },
  {
   "cell_type": "markdown",
   "metadata": {},
   "source": [
    "#### 43.) \n",
    "\n",
    "if $\n",
    "\\displaystyle f(x) = \\begin{cases}\n",
    " |x| & \\text{if $-1 \\leq x \\leq x$} \\\\ \n",
    " \\frac{1}{2}x & \\text{if $0 < x \\leq 2$} \n",
    " \\end{cases}\n",
    "$"
   ]
  },
  {
   "cell_type": "markdown",
   "metadata": {},
   "source": [
    "#### 47.) If $f(x) = int(2x)$, find\n",
    "\n",
    "(a) f(1.2) = 2\n",
    "\n",
    "(b) f(1.6) = 3\n",
    "\n",
    "(c) f(-1.8) -4\n",
    "\n",
    "\n",
    "\n"
   ]
  },
  {
   "cell_type": "markdown",
   "metadata": {},
   "source": [
    "#### 51.)\n",
    "\n",
    "Monthly service charge: $19.50\n",
    "\n",
    "Delivery charge:\n",
    "\n",
    "    First 30 therms   $0.91686/therm\n",
    "    \n",
    "    Over 30 therms    $0\n",
    "    \n",
    "Natural gas cost:\n",
    "\n",
    "    First 30 therms   $0.3313/therm\n",
    "    \n",
    "    Over 30 therms    $0.5757/therm\n",
    "\n",
    "(a)\n",
    "\n",
    "$19.50 + (20*0.91686) + (20* 0.3313) \n",
    "\n",
    "$19.50 + (1.24816*20) = 44.46319999999999\n",
    "\n",
    "=$44.46\n",
    "\n",
    "\n",
    "(b)\n",
    "\n",
    "$47.0058 + (30*0.3313) + (120*0.5757)\n",
    "\n",
    "= $126.03\n",
    "\n",
    "(c)\n",
    "\n",
    "if $\n",
    "\\displaystyle C(x) = \\begin{cases}\n",
    " 19.5 + 1.24816x & \\text{if $x \\leq 30$} \\\\ \n",
    " 39.6738 + 0.5757x & \\text{if $x > 30 $} \n",
    " \\end{cases}\n",
    "$\n",
    "\n",
    "(d) see below\n",
    "\n",
    "\n"
   ]
  },
  {
   "cell_type": "code",
   "execution_count": 68,
   "metadata": {},
   "outputs": [
    {
     "name": "stdout",
     "output_type": "stream",
     "text": [
      "cost of first 30 therms = 56.9448\n",
      "cost of terms over 30 = 126.0288\n",
      "1.24816\n",
      "39.6738\n"
     ]
    }
   ],
   "source": [
    "# Part B\n",
    "firstThirty = 19.50 + (.91686*30)+(.3313*30)\n",
    "overThirty = firstThirty + .5757*(150-30)\n",
    "print(\"cost of first 30 therms =\", firstThirty)\n",
    "print(\"cost of terms over 30 =\", overThirty)\n",
    "\n",
    "# part C\n",
    "print(.91686+.3313)\n",
    "\n",
    "print(56.9448-(.5757*30))\n",
    "\n"
   ]
  },
  {
   "cell_type": "code",
   "execution_count": 69,
   "metadata": {},
   "outputs": [
    {
     "data": {
      "image/png": "[encoded data removed]",
      "text/plain": [
       "<Figure size 432x288 with 1 Axes>"
      ]
     },
     "metadata": {
      "needs_background": "light"
     },
     "output_type": "display_data"
    }
   ],
   "source": [
    "import matplotlib.pyplot as plt\n",
    "import numpy as np\n",
    "\n",
    "def f1(x):\n",
    "    if x <=30:\n",
    "        a = 19.5 + (1.24816*x)\n",
    "    if x > 30:\n",
    "        a = 39.6738 + (0.5757*x)\n",
    "    return a\n",
    "\n",
    "def drawGraph(x,y):\n",
    "    plt.plot(x, y)\n",
    "    plt.grid(True)\n",
    "    plt.xlabel('therms')\n",
    "    plt.ylabel('cost in dollars')\n",
    "    plt.scatter(0, f1(0),c='red')\n",
    "    plt.scatter(20, f1(20),c='red')\n",
    "    plt.scatter(150, f1(150),c='red')\n",
    "    plt.show()\n",
    "\n",
    "def createArrays():\n",
    "    intervals = np.arange(0,200,1)\n",
    "    a = []\n",
    "    b = []\n",
    "    for t in intervals:\n",
    "        a.append(t)\n",
    "        b.append(f1(t))\n",
    "    x = np.array(a)\n",
    "    y = np.array(b)\n",
    "    return x, y\n",
    "\n",
    "drawGraph(createArrays()[0], createArrays()[1])"
   ]
  }
 ],
 "metadata": {
  "kernelspec": {
   "display_name": "Python 3",
   "language": "python",
   "name": "python3"
  },
  "language_info": {
   "codemirror_mode": {
    "name": "ipython",
    "version": 3
   },
   "file_extension": ".py",
   "mimetype": "text/x-python",
   "name": "python",
   "nbconvert_exporter": "python",
   "pygments_lexer": "ipython3",
   "version": "3.6.7"
  }
 },
 "nbformat": 4,
 "nbformat_minor": 2
}
