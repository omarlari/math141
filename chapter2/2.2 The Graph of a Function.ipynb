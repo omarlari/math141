{
 "cells": [
  {
   "cell_type": "markdown",
   "metadata": {},
   "source": [
    "#### 2.2 Problems: 11, 15, 17, 27, 35"
   ]
  },
  {
   "cell_type": "markdown",
   "metadata": {},
   "source": [
    "#### 11.)\n",
    "\n",
    "\n",
    "\n",
    "(a) $f(0) = 4, f(-6) = -3 $\n",
    "\n",
    "(b) $f(6) = 0, f(1)$\n",
    "\n",
    "(c) $f(3) is 4, positive$\n",
    "\n",
    "(d) $f(-4) is negative$\n",
    "\n",
    "(e) $y = f(x) = 0$ x-intercepts:  x=3, x=6, and x=10\n",
    "\n",
    "(f) $f(x) > 0 $ \n",
    "\n",
    "Interval notation: $(-3,5) \\cup (10,11)$\n",
    "\n",
    "Set notation: $\\{\\,x \\mid  \\text{ -3< x < 5, 10 < x < 11}\\,\\}$\n",
    "\n",
    "(g) Domain of f\n",
    "\n",
    "Interval notation: (-6,11)\n",
    "\n",
    "Set notation: $\\{\\,x \\mid  \\text{ -6 < x < 11}\\,\\}$\n",
    "\n",
    "(h) Range of f\n",
    "\n",
    "Interval notation (-3,4)\n",
    "\n",
    "Set notation: $\\{\\,x \\mid  \\text{ -3 < x < 4}\\,\\}$\n",
    "\n",
    "(i) What are the x-intercepts?\n",
    "\n",
    "x=-3, x=6, x=10\n",
    "\n",
    "(j) What are the y-intercepts?\n",
    "\n",
    "y = 3\n",
    "\n",
    "(k) The line $y=\\frac{1}{2}$ intersects the graph three (3) times.\n",
    "\n",
    "(l) The line $x=4$ interects the graph once.\n",
    "\n",
    "(m) For what values does f(x) = 3?\n",
    "\n",
    "$f(x) = 3$ when x=0 and x=4\n",
    "\n",
    "(n) For what values of f(x) = -2?\n",
    "\n",
    "$f(x) = -2$ when x=-5 and x=8"
   ]
  },
  {
   "cell_type": "markdown",
   "metadata": {},
   "source": [
    "#### 15.)\n",
    "Is a function\n",
    "\n",
    "(a) Domain:\n",
    "\n",
    "Interval notation: $[-\\pi, \\pi]$\n",
    "\n",
    "Set notation: $\\{ x \\mid -\\pi \\leq x \\leq \\pi \\}$\n",
    "\n",
    "(b) Intercepts:\n",
    "\n",
    "$(-\\pi,0) , (\\pi,0), (0, 1)$\n",
    "\n",
    "(c) This graph has symmetry across the y-axis."
   ]
  },
  {
   "cell_type": "markdown",
   "metadata": {},
   "source": [
    "#### 17.)\n",
    "\n",
    "Not a runction\n",
    "\n",
    "(a) Domain: \n",
    "\n",
    "Interval notation: $(-\\infty, 0]$\n",
    "\n",
    "Set notation: $\\{ x \\mid x \\leq 0 \\}$\n",
    "\n",
    "(b) Intercepts:\n",
    "\n",
    "(0,0)\n",
    "\n",
    "(c) This graph has symmetry across the x-axis"
   ]
  },
  {
   "cell_type": "markdown",
   "metadata": {},
   "source": [
    "#### 27.) $ f(x) = \\frac{x+2}{x-6}$\n",
    "\n",
    "(a) no, $f(3) = -\\frac{5}{3}$\n",
    "\n",
    "(b) (4, -3)\n",
    "\n",
    "$f(4) = \\frac{6}{-2}$\n",
    "\n",
    "$f(4) = -3$\n",
    "\n",
    "\n",
    "\n",
    "(c) \n",
    "\n",
    "$ 2 = \\frac{x+2}{x-6}$\n",
    "\n",
    "$ 2(x-6) = x+2$\n",
    "\n",
    "$ 2x-12 = x+2 $\n",
    "\n",
    "$ x = 14 $\n",
    "\n",
    "(14,2)\n",
    "\n",
    "\n",
    "(d) Domain:\n",
    "\n",
    "Interval notation: $(-\\infty, 6)\\cup(6, \\infty)$\n",
    "\n",
    "Set notation: $\\{ x \\mid x \\neq 6 \\}$\n",
    "\n",
    "(e) x-intercepts: (-2,0)\n",
    "\n",
    "$ 0 = \\frac{x+2}{x-6}$\n",
    "\n",
    "$ 0 = x +2 $\n",
    "\n",
    "x = -2\n",
    "\n",
    "\n",
    "(f) y-intercepts $(0,-\\frac{1}{3})$ \n",
    "\n",
    "$ y = \\frac{0+2}{0-6}$\n",
    "\n",
    "$ y = -\\frac{2}{6}$\n",
    "\n",
    "$ y = -\\frac{1}{3}$\n",
    "\n"
   ]
  },
  {
   "cell_type": "markdown",
   "metadata": {},
   "source": [
    "#### 35.)\n",
    "\n"
   ]
  },
  {
   "cell_type": "code",
   "execution_count": 2,
   "metadata": {},
   "outputs": [
    {
     "name": "stdout",
     "output_type": "stream",
     "text": [
      "hello world!\n"
     ]
    }
   ],
   "source": [
    "print (\"hello world!\")"
   ]
  },
  {
   "cell_type": "markdown",
   "metadata": {},
   "source": [
    "$ \\frac{x^2}{x-3} $"
   ]
  }
 ],
 "metadata": {
  "kernelspec": {
   "display_name": "Python 3",
   "language": "python",
   "name": "python3"
  },
  "language_info": {
   "codemirror_mode": {
    "name": "ipython",
    "version": 3
   },
   "file_extension": ".py",
   "mimetype": "text/x-python",
   "name": "python",
   "nbconvert_exporter": "python",
   "pygments_lexer": "ipython3",
   "version": "3.6.7"
  }
 },
 "nbformat": 4,
 "nbformat_minor": 2
}
