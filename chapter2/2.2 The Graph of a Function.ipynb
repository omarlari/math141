{
 "cells": [
  {
   "cell_type": "markdown",
   "metadata": {},
   "source": [
    "#### 2.2 Problems: 11, 15, 17, 27, 35"
   ]
  },
  {
   "cell_type": "markdown",
   "metadata": {},
   "source": [
    "#### 11.)\n",
    "\n",
    "\n",
    "\n",
    "(a) $f(0) = 4, f(-6) = -3 $\n",
    "\n",
    "(b) $f(6) = 0, f(1)$\n",
    "\n",
    "(c) $f(3) is 4, positive$\n",
    "\n",
    "(d) $f(-4) is negative$\n",
    "\n",
    "(e) $y = f(x) = 0$ x-intercepts:  x=3, x=6, and x=10\n",
    "\n",
    "(f) $f(x) > 0 $ \n",
    "\n",
    "Interval notation: $(-3,5) \\cup (10,11)$\n",
    "\n",
    "Set notation: $\\{\\,x \\mid  \\text{ -3< x < 5, 10 < x < 11}\\,\\}$\n",
    "\n",
    "(g) Domain of f\n",
    "\n",
    "Interval notation: (-6,11)\n",
    "\n",
    "Set notation: $\\{\\,x \\mid  \\text{ -6 < x < 11}\\,\\}$\n",
    "\n",
    "(h) Range of f\n",
    "\n",
    "Interval notation (-3,4)\n",
    "\n",
    "Set notation: $\\{\\,x \\mid  \\text{ -3 < x < 4}\\,\\}$\n",
    "\n",
    "(i) What are the x-intercepts?\n",
    "\n",
    "x=-3, x=6, x=10\n",
    "\n",
    "(j) What are the y-intercepts?\n",
    "\n",
    "y = 3\n",
    "\n",
    "(k) The line $y=\\frac{1}{2}$ intersects the graph three (3) times.\n",
    "\n",
    "(l) The line $x=4$ interects the graph once.\n",
    "\n",
    "(m) For what values does f(x) = 3?\n",
    "\n",
    "$f(x) = 3$ when x=0 and x=4\n",
    "\n",
    "(n) For what values of f(x) = -2?\n",
    "\n",
    "$f(x) = -2$ when x=-5 and x=8"
   ]
  },
  {
   "cell_type": "markdown",
   "metadata": {},
   "source": [
    "#### 15.)\n",
    "Is a function\n",
    "\n",
    "(a) Domain:\n",
    "\n",
    "Interval notation: $[-\\pi, \\pi]$\n",
    "\n",
    "Set notation: $\\{ x \\mid -\\pi \\leq x \\leq \\pi \\}$\n",
    "\n",
    "(b) Intercepts:\n",
    "\n",
    "$(-\\pi,0) , (\\pi,0), (0, 1)$\n",
    "\n",
    "(c) This graph has symmetry across the y-axis."
   ]
  },
  {
   "cell_type": "markdown",
   "metadata": {},
   "source": [
    "#### 17.)\n",
    "\n",
    "Not a runction\n",
    "\n",
    "(a) Domain: \n",
    "\n",
    "Interval notation: $(-\\infty, 0]$\n",
    "\n",
    "Set notation: $\\{ x \\mid x \\leq 0 \\}$\n",
    "\n",
    "(b) Intercepts:\n",
    "\n",
    "(0,0)\n",
    "\n",
    "(c) This graph has symmetry across the x-axis"
   ]
  },
  {
   "cell_type": "markdown",
   "metadata": {},
   "source": [
    "#### 27.) $ f(x) = \\frac{x+2}{x-6}$\n",
    "\n",
    "(a) no, $f(3) = -\\frac{5}{3}$\n",
    "\n",
    "(b) (4, -3)\n",
    "\n",
    "$f(4) = \\frac{6}{-2}$\n",
    "\n",
    "$f(4) = -3$\n",
    "\n",
    "\n",
    "\n",
    "(c) \n",
    "\n",
    "$ 2 = \\frac{x+2}{x-6}$\n",
    "\n",
    "$ 2(x-6) = x+2$\n",
    "\n",
    "$ 2x-12 = x+2 $\n",
    "\n",
    "$ x = 14 $\n",
    "\n",
    "(14,2)\n",
    "\n",
    "\n",
    "(d) Domain:\n",
    "\n",
    "Interval notation: $(-\\infty, 6)\\cup(6, \\infty)$\n",
    "\n",
    "Set notation: $\\{ x \\mid x \\neq 6 \\}$\n",
    "\n",
    "(e) x-intercepts: (-2,0)\n",
    "\n",
    "$ 0 = \\frac{x+2}{x-6}$\n",
    "\n",
    "$ 0 = x +2 $\n",
    "\n",
    "x = -2\n",
    "\n",
    "\n",
    "(f) y-intercepts $(0,-\\frac{1}{3})$ \n",
    "\n",
    "$ y = \\frac{0+2}{0-6}$\n",
    "\n",
    "$ y = -\\frac{2}{6}$\n",
    "\n",
    "$ y = -\\frac{1}{3}$\n",
    "\n"
   ]
  },
  {
   "cell_type": "markdown",
   "metadata": {},
   "source": [
    "#### 35.)\n",
    "\n",
    "$h(x) = \\frac{-32x^2}{130^2}+x$\n",
    "\n"
   ]
  },
  {
   "cell_type": "code",
   "execution_count": 16,
   "metadata": {},
   "outputs": [
    {
     "name": "stdout",
     "output_type": "stream",
     "text": [
      "81.06508875739645\n",
      "129.58579881656806\n",
      "26.62721893491124\n"
     ]
    }
   ],
   "source": [
    "def golfBall(distance):\n",
    "    distance = ((-32*(distance**2))/(130**2)) + distance\n",
    "    return distance\n",
    "\n",
    "print(golfBall(100))\n",
    "print(golfBall(300))\n",
    "print(golfBall(500))"
   ]
  },
  {
   "cell_type": "code",
   "execution_count": 31,
   "metadata": {},
   "outputs": [
    {
     "data": {
      "image/png": "[encoded data removed]",
      "text/plain": [
       "<Figure size 432x288 with 1 Axes>"
      ]
     },
     "metadata": {
      "needs_background": "light"
     },
     "output_type": "display_data"
    },
    {
     "data": {
      "text/plain": [
       "<Figure size 432x288 with 0 Axes>"
      ]
     },
     "metadata": {},
     "output_type": "display_data"
    }
   ],
   "source": [
    "import matplotlib.pyplot as plt\n",
    "import numpy as np\n",
    "%matplotlib inline\n",
    "\n",
    "#plt.rcdefaults()\n",
    "x = np.arange(0, 600, .1)\n",
    "\n",
    "def f1(x):\n",
    "    answer = ((-32*(x**2))/(130**2)) + x\n",
    "    return answer\n",
    "\n",
    "#plt.figure(figsize=(20,20))\n",
    "\n",
    "plt.plot(x, f1(x), c='red')\n",
    "\n",
    "\n",
    "#plt.xlim(0,500)\n",
    "plt.ylim(0,150)\n",
    "#plt.xticks(np.arange(0,20,step=1))\n",
    "#plt.yticks(np.arange(0,20))\n",
    "\n",
    "#leg = ax.legend();\n",
    "\n",
    "plt.grid(True)\n",
    "plt.figure()\n",
    "plt.show()"
   ]
  },
  {
   "cell_type": "code",
   "execution_count": 18,
   "metadata": {},
   "outputs": [
    {
     "data": {
      "image/png": "[encoded data removed]",
      "text/plain": [
       "<Figure size 432x288 with 1 Axes>"
      ]
     },
     "metadata": {
      "needs_background": "light"
     },
     "output_type": "display_data"
    }
   ],
   "source": [
    "'''\n",
    "Generate equally spaced floating point\n",
    "numbers between to given values\n",
    "'''\n",
    "\n",
    "def frange(start, final, increment):\n",
    "    numbers=[]\n",
    "    while start < final:\n",
    "        numbers.append(start)\n",
    "        start = start + increment\n",
    "        \n",
    "    return numbers\n",
    "\n",
    "'''\n",
    "Draw the trajectory of a body in projectile motion\n",
    "'''\n",
    "\n",
    "from matplotlib import pyplot as plt\n",
    "import math\n",
    "\n",
    "def draw_graph(x, y):\n",
    "    plt.plot(x, y)\n",
    "    plt.xlabel('x-coordinate')\n",
    "    plt.ylabel('y-coordinate')\n",
    "    plt.title('Projectile motion of a ball')\n",
    "    \n",
    "def draw_trajectory(u, theta):\n",
    "    \n",
    "    theta = math.radians(theta)\n",
    "    g = 9.8\n",
    "    \n",
    "    # Time of flight\n",
    "    t_flight = 2*u*math.sin(theta)/g\n",
    "    # Find time intervals\n",
    "    intervals = frange(0, t_flight, 0.001)\n",
    "    \n",
    "    # list of x and y coordinates\n",
    "    x = []\n",
    "    y = []\n",
    "    for t in intervals:\n",
    "        x.append(u*math.cos(theta)*t)\n",
    "        y.append(u*math.sin(theta)*t - 0.5*g*t*t)\n",
    "        \n",
    "    draw_graph(x, y)\n",
    "    \n",
    "if __name__=='__main__':\n",
    "    '''\n",
    "    try:\n",
    "        u = float(input('Enter the initial velocity (m/s): '))\n",
    "        theta = float(input('Enter the anlge of projects (degrees): '))\n",
    "    except ValueError:\n",
    "        print('You entered invalid input')\n",
    "    else:\n",
    "        draw_trajectory(u, theta)\n",
    "        plt.show()\n",
    "    '''\n",
    "    \n",
    "    # List of three different initial velocities\n",
    "    u_list = [20, 40, 60]\n",
    "    theta = 45\n",
    "    for u in u_list:\n",
    "        draw_trajectory(u, theta)\n",
    "    \n",
    "    # Add legend\n",
    "    plt.legend(['20', '40', '60'])\n",
    "    plt.show()\n",
    "    \n",
    "    \n",
    "        "
   ]
  },
  {
   "cell_type": "code",
   "execution_count": 14,
   "metadata": {},
   "outputs": [
    {
     "name": "stdout",
     "output_type": "stream",
     "text": [
      "9\n"
     ]
    }
   ],
   "source": [
    "def square(x):\n",
    "    answer = x**2\n",
    "    return answer\n",
    "\n",
    "print(square(3))"
   ]
  },
  {
   "cell_type": "markdown",
   "metadata": {},
   "source": [
    "$ \\frac{x^2}{x-3} $"
   ]
  }
 ],
 "metadata": {
  "kernelspec": {
   "display_name": "Python 3",
   "language": "python",
   "name": "python3"
  },
  "language_info": {
   "codemirror_mode": {
    "name": "ipython",
    "version": 3
   },
   "file_extension": ".py",
   "mimetype": "text/x-python",
   "name": "python",
   "nbconvert_exporter": "python",
   "pygments_lexer": "ipython3",
   "version": "3.6.7"
  }
 },
 "nbformat": 4,
 "nbformat_minor": 2
}
