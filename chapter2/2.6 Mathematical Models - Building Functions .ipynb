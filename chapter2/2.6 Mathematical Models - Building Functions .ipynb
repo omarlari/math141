{
 "cells": [
  {
   "cell_type": "markdown",
   "metadata": {},
   "source": [
    "#### Problems for you to do:  1, 7, 13, 19, 23"
   ]
  },
  {
   "cell_type": "markdown",
   "metadata": {},
   "source": [
    "#### 1.) \n",
    "\n",
    "Let P = (x,y) be a piont on the grpah of $y = x^2 -8 $\n",
    "\n",
    "(a) $ d = \\sqrt (x-0)^2 + (y-0)^2$\n",
    "\n",
    "$ d(x) = \\sqrt x^2 + (x^2 - 8)^2$\n",
    "\n",
    "$ d(x) = \\sqrt x^4 - 15x^2 +64\\ $\n",
    "\n",
    "(b) 8\n",
    "\n",
    "(c) $\\sqrt 50$\n",
    "\n",
    "(d) see below\n",
    "\n",
    "(d) smallest at $x \\approx -2.74$ and $x \\approx2.74$"
   ]
  },
  {
   "cell_type": "code",
   "execution_count": 8,
   "metadata": {},
   "outputs": [
    {
     "data": {
      "image/png": "[encoded data removed]",
      "text/plain": [
       "<Figure size 432x288 with 1 Axes>"
      ]
     },
     "metadata": {
      "needs_background": "light"
     },
     "output_type": "display_data"
    }
   ],
   "source": [
    "import matplotlib.pyplot as plt\n",
    "import numpy as np\n",
    "\n",
    "def f1(x):\n",
    "    answer = np.sqrt((x**4)-(15*x**2)+64)\n",
    "    return answer\n",
    "\n",
    "def drawGraph(x,y):\n",
    "    plt.plot(x,y)\n",
    "    plt.xlim(-5,5)\n",
    "    plt.ylim(0,10)  \n",
    "    ### plot three points\n",
    "    #plt.scatter(0, f1(0),c='red')\n",
    "    #plt.scatter(-2, f1(-2),c='red')\n",
    "    #plt.scatter(2, f1(2),c='red')\n",
    "    #plt.text(0, f1(0), '(0,-1)')\n",
    "    #plt.text(-2, f1(2), '(-2,3)')\n",
    "    #plt.text(2, f1(2), '(-2,3)')\n",
    "    ### optics\n",
    "    plt.xticks(np.arange(-5,5))\n",
    "    plt.yticks(np.arange(0,10))\n",
    "    plt.axhline(0, color='black')\n",
    "    plt.axvline(0, color='black')\n",
    "    plt.grid(True)\n",
    "    plt.show()\n",
    "\n",
    "def createArrays():\n",
    "    intervals = np.arange(-5,5,.001)\n",
    "    a = []\n",
    "    b = []\n",
    "    for t in intervals:\n",
    "        a.append(t)\n",
    "        b.append(f1(t))\n",
    "    x = np.array(a)\n",
    "    y = np.array(b)\n",
    "    return x, y\n",
    "\n",
    "drawGraph(createArrays()[0], createArrays()[1])"
   ]
  },
  {
   "cell_type": "markdown",
   "metadata": {},
   "source": [
    "#### 7.)"
   ]
  },
  {
   "cell_type": "markdown",
   "metadata": {},
   "source": [
    "#### 13.)"
   ]
  },
  {
   "cell_type": "markdown",
   "metadata": {},
   "source": [
    "#### 19.)"
   ]
  },
  {
   "cell_type": "markdown",
   "metadata": {},
   "source": [
    "#### 23.)"
   ]
  }
 ],
 "metadata": {
  "kernelspec": {
   "display_name": "Python 3",
   "language": "python",
   "name": "python3"
  },
  "language_info": {
   "codemirror_mode": {
    "name": "ipython",
    "version": 3
   },
   "file_extension": ".py",
   "mimetype": "text/x-python",
   "name": "python",
   "nbconvert_exporter": "python",
   "pygments_lexer": "ipython3",
   "version": "3.6.7"
  }
 },
 "nbformat": 4,
 "nbformat_minor": 2
}
