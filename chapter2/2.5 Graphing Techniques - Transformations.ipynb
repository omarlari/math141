{
 "cells": [
  {
   "cell_type": "markdown",
   "metadata": {},
   "source": [
    "#### Problems for you to do:  7, 9, 11, 13, 15, 17, 23, 27, 33, 35, 39, 43, 45, 49, 55, 63, 75, 77"
   ]
  },
  {
   "cell_type": "markdown",
   "metadata": {},
   "source": [
    "7.) B\n",
    "\n",
    "9.) H\n",
    "\n",
    "11.) I\n",
    "\n",
    "13.) L\n",
    "\n",
    "15.) F\n",
    "\n",
    "17.) G\n",
    "\n",
    "\n",
    "\n",
    "\n",
    "\n"
   ]
  },
  {
   "cell_type": "markdown",
   "metadata": {},
   "source": [
    "#### 23.) $-x^3$"
   ]
  },
  {
   "cell_type": "markdown",
   "metadata": {},
   "source": [
    "#### 27.) \n",
    "\n",
    "(1) $\\sqrt{x} +2$\n",
    "\n",
    "(2) $\\sqrt{-x}$\n",
    "\n",
    "(3) $-\\sqrt{x}$\n",
    "\n",
    "$ y = -\\sqrt{-x} +2 $"
   ]
  },
  {
   "cell_type": "markdown",
   "metadata": {},
   "source": [
    "#### 33.) C"
   ]
  },
  {
   "cell_type": "markdown",
   "metadata": {},
   "source": [
    "#### 35.)\n",
    "\n",
    "(a) -7 and 1\n",
    "\n",
    "(b) -3 and 5\n",
    "\n",
    "(c) -5 and 3\n",
    "\n",
    "(d) -3 and 5\n"
   ]
  },
  {
   "cell_type": "code",
   "execution_count": 27,
   "metadata": {},
   "outputs": [
    {
     "data": {
      "image/png": "[encoded data removed]",
      "text/plain": [
       "<Figure size 432x288 with 1 Axes>"
      ]
     },
     "metadata": {
      "needs_background": "light"
     },
     "output_type": "display_data"
    }
   ],
   "source": [
    "import matplotlib.pyplot as plt\n",
    "import numpy as np\n",
    "\n",
    "def f1(x):\n",
    "    answer = x**(1/float(3))\n",
    "    return answer\n",
    "\n",
    "def drawGraph(x,y):\n",
    "    #plt.plot(x,y)\n",
    "    plt.scatter(-5, 0, c='red')\n",
    "    plt.scatter(3, 0, c='red')\n",
    "    plt.axhline(0, color='black')\n",
    "    plt.axvline(0, color='black')\n",
    "    plt.grid(True)\n",
    "    plt.show()\n",
    "\n",
    "def createArrays():\n",
    "    intervals = np.arange(0,10,.001)\n",
    "    a = []\n",
    "    b = []\n",
    "    for t in intervals:\n",
    "        a.append(t)\n",
    "        b.append(f1(t))\n",
    "    x = np.array(a)\n",
    "    y = np.array(b)\n",
    "    return x, y\n",
    "\n",
    "drawGraph(createArrays()[0], createArrays()[1])"
   ]
  },
  {
   "cell_type": "markdown",
   "metadata": {},
   "source": [
    "#### 39.) See graph below\n",
    "\n",
    "Domain:\n",
    "\n",
    "Interval notation: $(-\\infty,\\infty)$\n",
    "\n",
    "Set notation: $\\mathbb{R} $\n",
    "    \n",
    "Range:\n",
    "\n",
    "Interval notation: $[-1,\\infty)$\n",
    "\n",
    "Set notation: $\\{ y \\mid y \\geq -1 \\}$"
   ]
  },
  {
   "cell_type": "code",
   "execution_count": 28,
   "metadata": {},
   "outputs": [
    {
     "data": {
      "image/png": "[encoded data removed]",
      "text/plain": [
       "<Figure size 432x288 with 1 Axes>"
      ]
     },
     "metadata": {
      "needs_background": "light"
     },
     "output_type": "display_data"
    }
   ],
   "source": [
    "import matplotlib.pyplot as plt\n",
    "import numpy as np\n",
    "\n",
    "def f1(x):\n",
    "    answer = (x**2) -1\n",
    "    return answer\n",
    "\n",
    "def drawGraph(x,y):\n",
    "    plt.plot(x,y)\n",
    "    plt.axhline(0, color='black')\n",
    "    plt.axvline(0, color='black')\n",
    "    plt.xlim(-5,5)\n",
    "    plt.ylim(-5,5)\n",
    "    plt.xticks(np.arange(-5,5))\n",
    "    plt.yticks(np.arange(-5,5))\n",
    "    plt.grid(True)\n",
    "    plt.show()\n",
    "\n",
    "def createArrays():\n",
    "    intervals = np.arange(-5,5,.001)\n",
    "    a = []\n",
    "    b = []\n",
    "    for t in intervals:\n",
    "        a.append(t)\n",
    "        b.append(f1(t))\n",
    "    x = np.array(a)\n",
    "    y = np.array(b)\n",
    "    return x, y\n",
    "\n",
    "drawGraph(createArrays()[0], createArrays()[1])"
   ]
  },
  {
   "cell_type": "markdown",
   "metadata": {},
   "source": [
    "#### 43.) See graph below\n",
    "\n",
    "Domain:\n",
    "\n",
    "Interval notation: $[-2,\\infty)$\n",
    "\n",
    "Set notation: $\\{ x \\mid x \\geq -2 \\}$\n",
    "    \n",
    "Range:\n",
    "\n",
    "Interval notation: $[0,\\infty)$\n",
    "\n",
    "Set notation: $\\{ y \\mid y \\geq 0 \\}$\n"
   ]
  },
  {
   "cell_type": "code",
   "execution_count": 29,
   "metadata": {},
   "outputs": [
    {
     "data": {
      "image/png": "[encoded data removed]",
      "text/plain": [
       "<Figure size 432x288 with 1 Axes>"
      ]
     },
     "metadata": {
      "needs_background": "light"
     },
     "output_type": "display_data"
    }
   ],
   "source": [
    "import matplotlib.pyplot as plt\n",
    "import numpy as np\n",
    "\n",
    "def f1(x):\n",
    "    answer = np.sqrt(x+2)\n",
    "    return answer\n",
    "\n",
    "def drawGraph(x,y):\n",
    "    plt.plot(x,y)\n",
    "    plt.axhline(0, color='black')\n",
    "    plt.axvline(0, color='black')\n",
    "    plt.xlim(-5,5)\n",
    "    plt.ylim(-5,5)\n",
    "    plt.xticks(np.arange(-5,5))\n",
    "    plt.yticks(np.arange(-5,5))\n",
    "    plt.grid(True)\n",
    "    plt.show()\n",
    "\n",
    "def createArrays():\n",
    "    intervals = np.arange(-2,5,.001)\n",
    "    a = []\n",
    "    b = []\n",
    "    for t in intervals:\n",
    "        a.append(t)\n",
    "        b.append(f1(t))\n",
    "    x = np.array(a)\n",
    "    y = np.array(b)\n",
    "    return x, y\n",
    "\n",
    "drawGraph(createArrays()[0], createArrays()[1])"
   ]
  },
  {
   "cell_type": "markdown",
   "metadata": {},
   "source": [
    "#### 45.)"
   ]
  },
  {
   "cell_type": "markdown",
   "metadata": {},
   "source": [
    "#### 49.)"
   ]
  },
  {
   "cell_type": "markdown",
   "metadata": {},
   "source": [
    "#### 55.)"
   ]
  },
  {
   "cell_type": "markdown",
   "metadata": {},
   "source": [
    "#### 63.)"
   ]
  },
  {
   "cell_type": "markdown",
   "metadata": {},
   "source": [
    "#### 75.)"
   ]
  },
  {
   "cell_type": "markdown",
   "metadata": {},
   "source": [
    "#### 77.)"
   ]
  }
 ],
 "metadata": {
  "kernelspec": {
   "display_name": "Python 3",
   "language": "python",
   "name": "python3"
  },
  "language_info": {
   "codemirror_mode": {
    "name": "ipython",
    "version": 3
   },
   "file_extension": ".py",
   "mimetype": "text/x-python",
   "name": "python",
   "nbconvert_exporter": "python",
   "pygments_lexer": "ipython3",
   "version": "3.6.7"
  }
 },
 "nbformat": 4,
 "nbformat_minor": 2
}
