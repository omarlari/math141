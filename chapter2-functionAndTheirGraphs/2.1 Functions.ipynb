{
 "cells": [
  {
   "cell_type": "markdown",
   "metadata": {},
   "source": [
    "Problems for you to do:  21, 25, 33, 45, 53, 65, 69, 81, 87, 93, 99"
   ]
  },
  {
   "cell_type": "markdown",
   "metadata": {},
   "source": [
    "21.)\n",
    "\n",
    "Given: Relation = set of ordered pairs\n",
    "(Hours Worked, Salary) = type of ordered pair\n",
    "\n",
    "(20, 200)\n",
    "(20, 300)\n",
    "(30, 350)\n",
    "(40, 425)\n",
    "\n",
    "$f:X \\rightarrow Y$\n",
    "Domain: {20, 30, 40}\n",
    "\n",
    "Range: {200, 300, 350, 425}\n",
    "\n",
    "\n",
    "|d/r   |20    |30    |40    |\n",
    "|------|------|------|------|\n",
    "|200   |x     |.     |.     |\n",
    "|300   |x     |.     |.     |\n",
    "|350   |.     |x     |.     |\n",
    "|425   |.     |.     |x     |\n",
    "\n",
    "This relation is not a function because the vertical line passes twice at 20 hours worked (the domain) and gives two different salary values (range). This is not allowed for a function."
   ]
  },
  {
   "cell_type": "markdown",
   "metadata": {},
   "source": [
    "25.)\n",
    "\n",
    "{(1,3),(2,3),(3,3),(4,3)}\n",
    "\n",
    "Domain: {1,2,3,4}\n",
    "\n",
    "Range: {3}\n",
    "\n",
    "|d /r  |1     |2     |3     |4     |\n",
    "|------|------|------|------|------|\n",
    "|3     |x     |x     |x     |x     |\n"
   ]
  },
  {
   "cell_type": "markdown",
   "metadata": {},
   "source": [
    "33.)\n",
    "\n",
    "$y = \\frac{1}{x}$\n",
    "\n",
    "This is a reciprocal function, all reciprocals are a function."
   ]
  },
  {
   "cell_type": "code",
   "execution_count": 3,
   "metadata": {
    "scrolled": false
   },
   "outputs": [
    {
     "data": {
      "image/png": "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\n",
      "text/plain": [
       "<Figure size 720x720 with 1 Axes>"
      ]
     },
     "metadata": {
      "needs_background": "light"
     },
     "output_type": "display_data"
    }
   ],
   "source": [
    "import matplotlib.pyplot as plt\n",
    "import numpy as np\n",
    "%matplotlib inline\n",
    "\n",
    "#plt.rcdefaults()\n",
    "x = np.arange(-10, 10, .1)\n",
    "\n",
    "def f1(x):\n",
    "    answer = 1/x\n",
    "    return answer\n",
    "\n",
    "plt.figure(figsize=(10,10))\n",
    "\n",
    "plt.plot(x, f1(x), c='red')\n",
    "\n",
    "# optics\n",
    "plt.axhline(0, color='black')\n",
    "plt.axvline(0, color='black')\n",
    "plt.xlim(-10,10)\n",
    "plt.ylim(-10,10)\n",
    "plt.xticks(np.arange(-10,10,step=1))\n",
    "plt.yticks(np.arange(-10,10))\n",
    "plt.grid(True)\n",
    "\n",
    "\n",
    "plt.show()"
   ]
  },
  {
   "cell_type": "markdown",
   "metadata": {},
   "source": [
    "45.) $f(x)=\\frac{x}{x^2+1}$\n",
    "\n",
    "(a) $f(0) = \\frac{0}{0^2+1} = 0$  \n",
    "\n",
    "(b) $f(1) = \\frac{1}{1^2+1} = \\frac{1}{2}$ \n",
    "\n",
    "(c) $f(-1) = \\frac{-1}{-1^2+1} = -\\frac{1}{2}$\n",
    "\n",
    "(d) $f(-x) = \\frac{-x}{-x^2+1} = \\frac{-x}{x^2+1}$\n",
    "\n",
    "(e) $-f(x) = -\\frac{x}{x^2+1} = \\frac{-x}{x^2+1}$\n",
    "\n",
    "(f) $f(x+1) = \\frac{x+1}{(x+1)^2+1} = \\frac{x+1}{x^2+2x+1+1} = \\frac{x+1}{x^2+2x+2}$\n",
    "\n",
    "(g) $f(2x) = \\frac{2x}{(2x)^2+1} = \\frac{2x}{4x^2+1}$ \n",
    "\n",
    "(h) $f(x+h) = \\frac{x+h}{(x+h)^2+1} = \\frac{x+h}{x^2+2xh+h^2+1}$\n"
   ]
  },
  {
   "cell_type": "markdown",
   "metadata": {},
   "source": [
    "65.) $f(x)=\\frac{\\sqrt{t-4}}{3t-21}$\n",
    "\n",
<<<<<<< HEAD
    "Domain = {$t| t \\geq 4, t \\neq 7$}"
=======
    "Domain = {$t| t \\geq 7, t \\neq 4$}"
>>>>>>> 4a4fab6d30a641542cf35acbd13e52bfa1612f78
   ]
  }
 ],
 "metadata": {
  "kernelspec": {
   "display_name": "Python 3",
   "language": "python",
   "name": "python3"
  },
  "language_info": {
   "codemirror_mode": {
    "name": "ipython",
    "version": 3
   },
   "file_extension": ".py",
   "mimetype": "text/x-python",
   "name": "python",
   "nbconvert_exporter": "python",
   "pygments_lexer": "ipython3",
   "version": "3.6.7"
  }
 },
 "nbformat": 4,
 "nbformat_minor": 2
}
